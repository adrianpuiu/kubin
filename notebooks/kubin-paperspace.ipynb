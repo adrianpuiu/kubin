{
 "cells": [
  {
   "cell_type": "code",
   "execution_count": null,
   "metadata": {},
   "outputs": [],
   "source": [
    "use_dev = True\n",
    "use_flash_attention = False\n",
    "use_diffusers = True\n",
    "use_xformers = True\n",
    "kd2_dir = \"kd2\""
   ]
  },
  {
   "cell_type": "code",
   "execution_count": null,
   "metadata": {},
   "outputs": [],
   "source": [
    "!python --version\n",
    "\n",
    "[gpu] = !nvidia-smi --query-gpu=gpu_name --format=csv,noheader\n",
    "print (gpu)\n",
    "\n",
    "import torch\n",
    "print(torch.__version__)\n",
    "\n",
    "!nvidia-smi"
   ]
  },
  {
   "cell_type": "code",
   "execution_count": null,
   "metadata": {},
   "outputs": [],
   "source": [
    "%mkdir /{kd2_dir}\n",
    "%cd /{kd2_dir}\n",
    "\n",
    "!git clone -b {\"dev\" if use_dev else \"main\"} https://github.com/seruva19/kubin.git\n",
    "%cd /{kd2_dir}/kubin\n",
    "\n",
    "!pip install -r requirements.txt\n",
    "\n",
    "if use_diffusers:\n",
    "    !pip install -r diffusers/requirements.txt\n",
    "\n",
    "if use_xformers:\n",
    "    !pip install xformers==0.0.16\n",
    "    !pip install torch==1.13.1+cu116 torchvision==0.14.1+cu116 torchaudio==0.13.1+cu116 --extra-index-url https://download.pytorch.org/whl/cu116\n",
    "    !pip install triton==2.0.0\n",
    "    !python -m xformers.info\n",
    "    \n",
    "if use_flash_attention:\n",
    "  !pip install https://github.com/seruva19/flash-attn-wheels/raw/main/torch1.12.1%2Bcu116/flash_attn-1.0.1-cp39-cp39-linux_x86_64.whl"
   ]
  },
  {
   "cell_type": "code",
   "execution_count": null,
   "metadata": {},
   "outputs": [],
   "source": [
    "!python src/kubin.py \\\n",
    "  --cache-dir=\"/{kd2_dir}/kubin/models\" \\\n",
    "  --output-dir=\"/{kd2_dir}/kubin/output\" \\\n",
    "  --server-port=7860 \\\n",
    "  --share=\"gradio\" \\\n",
    "  --pipeline={\"diffusers\" if use_diffusers else \"native\"}  \\\n",
    "  --optimize={\"xformers\" if use_xformers else \"\"}  \\\n",
    "  {\"--flash-attention='use'\" if use_flash_attention else \"\"}"
   ]
  }
 ],
 "metadata": {
  "kernelspec": {
   "display_name": "Julia 1.8.5",
   "language": "julia",
   "name": "julia-1.8"
  },
  "language_info": {
   "file_extension": ".jl",
   "mimetype": "application/julia",
   "name": "julia",
   "version": "1.8.5"
  },
  "orig_nbformat": 4
 },
 "nbformat": 4,
 "nbformat_minor": 2
}
