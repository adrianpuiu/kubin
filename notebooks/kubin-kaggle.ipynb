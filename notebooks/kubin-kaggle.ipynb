{
 "cells": [
  {
   "cell_type": "code",
   "execution_count": null,
   "metadata": {},
   "outputs": [],
   "source": [
    "use_dev = False\n",
    "use_flash_attention = True"
   ]
  },
  {
   "cell_type": "code",
   "execution_count": null,
   "metadata": {},
   "outputs": [],
   "source": [
    "!python --version\n",
    "\n",
    "gpu = !nvidia-smi --query-gpu=gpu_name --format=csv,noheader\n",
    "print (gpu[0])\n",
    "\n",
    "import torch\n",
    "print(torch._version_)\n",
    "\n",
    "!nvidia-smi"
   ]
  },
  {
   "cell_type": "code",
   "execution_count": null,
   "metadata": {},
   "outputs": [],
   "source": [
    "%cd /kaggle/working\n",
    "\n",
    "!git clone -b {\"dev\" if use_dev else \"main\"} https://github.com/seruva19/kubin.git \n",
    "%cd /kaggle/working/kubin\n",
    "\n",
    "!pip install -r requirements.txt\n",
    "!pip install -r diffusers/requirements.txt\n",
    "\n",
    "if use_flash_attention:\n",
    "  !pip install https://github.com/seruva19/flash-attn-wheels/raw/main/torch1.13.0%2Bcu113/flash_attn-1.0.1-cp37-cp37m-linux_x86_64.whl"
   ]
  },
  {
   "cell_type": "code",
   "execution_count": null,
   "metadata": {},
   "outputs": [],
   "source": [
    "args = '--cache-dir=\"/kaggle/working/kubin/models\" --output-dir=\"/kaggle/working/kubin/output\" --share=\"gradio\"'\n",
    "if use_flash_attention: args += \" --flash-attention='use'\"\n",
    "\n",
    "!python src/kubin.py $args"
   ]
  }
 ],
 "metadata": {
  "kernelspec": {
   "display_name": "Julia 1.8.5",
   "language": "julia",
   "name": "julia-1.8"
  },
  "language_info": {
   "file_extension": ".jl",
   "mimetype": "application/julia",
   "name": "julia",
   "version": "1.8.5"
  },
  "orig_nbformat": 4
 },
 "nbformat": 4,
 "nbformat_minor": 2
}
